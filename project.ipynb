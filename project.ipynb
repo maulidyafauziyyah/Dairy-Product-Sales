{
 "cells": [
  {
   "cell_type": "markdown",
   "metadata": {},
   "source": [
    "# <b> Link Tableau</b>"
   ]
  },
  {
   "cell_type": "markdown",
   "metadata": {},
   "source": [
    "https://public.tableau.com/app/profile/maulidya.fauziyyah/viz/Milestone_Phase0_Maudy/Dashboard1?publish=yes"
   ]
  },
  {
   "cell_type": "markdown",
   "metadata": {},
   "source": [
    "# <b> Identifikasi Masalah </b>"
   ]
  },
  {
   "cell_type": "markdown",
   "metadata": {},
   "source": [
    "#### <b>Latar Belakang</b>\n",
    "\n",
    "Saya adalah seorang Data Analyst di Direktorat Jenderal Peternakan dan Kesehatan Hewan Kementerian Pertanian di India. Saya ditugaskan untuk menganalisis data Dairy Product Sales dan mencari preferensi pelanggan dan perilaku pembelian berdasarkan brand. Dengan mengetahui preferensi pelanggan dan perilaku pembelian, setiap brand dapat meningkatkan penghasilan dan meningkatkan kontribusi terhadap pertumbuhan ekonomi dan kesejahteraan masyarakat di India.\n",
    "\n",
    "#### <b>SMART Framework</b>\n",
    "\n",
    "Specific : Meningkatkan penghasilan dari penjualan produk dairy di India dengan pemahaman yang lebih baik tentang preferensi pelanggan dan pola perilaku pembelian berdasarkan brand.\n",
    "\n",
    "Measurable : target total pendapatan brand meningkat 20%.\n",
    "\n",
    "Achievable : Memberikan insight kepada setiap brand, memungkinkan brand untuk menyesuaikan produk dan promosi sehingga menghasilkan pertumbuhan pendapatan yang signifikan.\n",
    "\n",
    "Relevant : Dengan kecukupan data yang dimiliki dapat dilihat perilaku pembelian dan banyaknya produk yang terjual\n",
    "\n",
    "Time-bound : Setelah didapatkan hasil analisa, program ini akan tercapai dalam waktu 3 bulan\n",
    "\n",
    "\n",
    "#### <b>Problem Statement</b>\n",
    "\n",
    "Meningkatkan pendapatan penjualan dairy products dengan memahami preferensi pelanggan dan pola perilaku pembelian berdasarkan brand. Dengan berfokus pada identifikasi kontribusi penjualan tinggi dan rendah serta menilai korelasi antara harga dan kuantitas produk terjual. Dengan menetapkan target 20% peningkatan total pendapatan brand, mengukur distribusi penjualan, dan mengevaluasi korelasi secara kuantitatif, proyek ini dapat memberikan wawasan yang dapat digunakan oleh setiap brand dalam waktu tiga bulan.\n",
    "\n",
    "#### <b>Penjabaran Masalah</b>\n",
    "\n",
    "1. Bagaimana pemusatan dan distribusi penjualan dairy products pada kolom Quantity Sold (liters/kg)?\n",
    "  \n",
    "2. Apakah ada perbedaan dalam penjualan dairy products berdasarkan metode pembelian?\n",
    "\n",
    "3. Apa brand yang paling banyak menjual produk dairy?\n",
    "\n",
    "4. Bagaimana tren penjualan dari 3 brand yang paling banyak menjual product dairy? \n",
    "\n",
    "5. Sebutkan 5 produk yang paling laku\n",
    "\n",
    "6. Bagaimana komposisi produk dairy yang terjual berdasarkan Storage Condition?\n",
    "\n"
   ]
  },
  {
   "cell_type": "markdown",
   "metadata": {},
   "source": [
    "# <b>Data Loading</b>"
   ]
  },
  {
   "cell_type": "markdown",
   "metadata": {},
   "source": [
    "Referensi Data: https://www.kaggle.com/datasets/suraj520/dairy-goods-sales-dataset"
   ]
  },
  {
   "cell_type": "code",
   "execution_count": 3,
   "metadata": {},
   "outputs": [],
   "source": [
    "# Import library yang dibutuhkan\n",
    "import pandas as pd\n",
    "import matplotlib.pyplot as plt\n",
    "import seaborn as sns\n",
    "import numpy as np"
   ]
  },
  {
   "cell_type": "code",
   "execution_count": 47,
   "metadata": {},
   "outputs": [],
   "source": [
    "# Load data\n",
    "df_dairy = pd.read_csv ('dairy_dataset.csv')"
   ]
  },
  {
   "cell_type": "markdown",
   "metadata": {},
   "source": [
    "### <b> Menampilkan Data </b>"
   ]
  },
  {
   "cell_type": "code",
   "execution_count": 48,
   "metadata": {},
   "outputs": [
    {
     "data": {
      "text/html": [
       "<div>\n",
       "<style scoped>\n",
       "    .dataframe tbody tr th:only-of-type {\n",
       "        vertical-align: middle;\n",
       "    }\n",
       "\n",
       "    .dataframe tbody tr th {\n",
       "        vertical-align: top;\n",
       "    }\n",
       "\n",
       "    .dataframe thead th {\n",
       "        text-align: right;\n",
       "    }\n",
       "</style>\n",
       "<table border=\"1\" class=\"dataframe\">\n",
       "  <thead>\n",
       "    <tr style=\"text-align: right;\">\n",
       "      <th></th>\n",
       "      <th>Location</th>\n",
       "      <th>Total Land Area (acres)</th>\n",
       "      <th>Number of Cows</th>\n",
       "      <th>Farm Size</th>\n",
       "      <th>Date</th>\n",
       "      <th>Product ID</th>\n",
       "      <th>Product Name</th>\n",
       "      <th>Brand</th>\n",
       "      <th>Quantity (liters/kg)</th>\n",
       "      <th>Price per Unit</th>\n",
       "      <th>...</th>\n",
       "      <th>Production Date</th>\n",
       "      <th>Expiration Date</th>\n",
       "      <th>Quantity Sold (liters/kg)</th>\n",
       "      <th>Price per Unit (sold)</th>\n",
       "      <th>Approx. Total Revenue(INR)</th>\n",
       "      <th>Customer Location</th>\n",
       "      <th>Sales Channel</th>\n",
       "      <th>Quantity in Stock (liters/kg)</th>\n",
       "      <th>Minimum Stock Threshold (liters/kg)</th>\n",
       "      <th>Reorder Quantity (liters/kg)</th>\n",
       "    </tr>\n",
       "  </thead>\n",
       "  <tbody>\n",
       "    <tr>\n",
       "      <th>0</th>\n",
       "      <td>Telangana</td>\n",
       "      <td>310.84</td>\n",
       "      <td>96</td>\n",
       "      <td>Medium</td>\n",
       "      <td>2022-02-17</td>\n",
       "      <td>5</td>\n",
       "      <td>Ice Cream</td>\n",
       "      <td>Dodla Dairy</td>\n",
       "      <td>222.40</td>\n",
       "      <td>85.72</td>\n",
       "      <td>...</td>\n",
       "      <td>2021-12-27</td>\n",
       "      <td>2022-01-21</td>\n",
       "      <td>7</td>\n",
       "      <td>82.24</td>\n",
       "      <td>575.68</td>\n",
       "      <td>Madhya Pradesh</td>\n",
       "      <td>Wholesale</td>\n",
       "      <td>215</td>\n",
       "      <td>19.55</td>\n",
       "      <td>64.03</td>\n",
       "    </tr>\n",
       "    <tr>\n",
       "      <th>1</th>\n",
       "      <td>Uttar Pradesh</td>\n",
       "      <td>19.19</td>\n",
       "      <td>44</td>\n",
       "      <td>Large</td>\n",
       "      <td>2021-12-01</td>\n",
       "      <td>1</td>\n",
       "      <td>Milk</td>\n",
       "      <td>Amul</td>\n",
       "      <td>687.48</td>\n",
       "      <td>42.61</td>\n",
       "      <td>...</td>\n",
       "      <td>2021-10-03</td>\n",
       "      <td>2021-10-25</td>\n",
       "      <td>558</td>\n",
       "      <td>39.24</td>\n",
       "      <td>21895.92</td>\n",
       "      <td>Kerala</td>\n",
       "      <td>Wholesale</td>\n",
       "      <td>129</td>\n",
       "      <td>43.17</td>\n",
       "      <td>181.10</td>\n",
       "    </tr>\n",
       "    <tr>\n",
       "      <th>2</th>\n",
       "      <td>Tamil Nadu</td>\n",
       "      <td>581.69</td>\n",
       "      <td>24</td>\n",
       "      <td>Medium</td>\n",
       "      <td>2022-02-28</td>\n",
       "      <td>4</td>\n",
       "      <td>Yogurt</td>\n",
       "      <td>Dodla Dairy</td>\n",
       "      <td>503.48</td>\n",
       "      <td>36.50</td>\n",
       "      <td>...</td>\n",
       "      <td>2022-01-14</td>\n",
       "      <td>2022-02-13</td>\n",
       "      <td>256</td>\n",
       "      <td>33.81</td>\n",
       "      <td>8655.36</td>\n",
       "      <td>Madhya Pradesh</td>\n",
       "      <td>Online</td>\n",
       "      <td>247</td>\n",
       "      <td>15.10</td>\n",
       "      <td>140.83</td>\n",
       "    </tr>\n",
       "    <tr>\n",
       "      <th>3</th>\n",
       "      <td>Telangana</td>\n",
       "      <td>908.00</td>\n",
       "      <td>89</td>\n",
       "      <td>Small</td>\n",
       "      <td>2019-06-09</td>\n",
       "      <td>3</td>\n",
       "      <td>Cheese</td>\n",
       "      <td>Britannia Industries</td>\n",
       "      <td>823.36</td>\n",
       "      <td>26.52</td>\n",
       "      <td>...</td>\n",
       "      <td>2019-05-15</td>\n",
       "      <td>2019-07-26</td>\n",
       "      <td>601</td>\n",
       "      <td>28.92</td>\n",
       "      <td>17380.92</td>\n",
       "      <td>Rajasthan</td>\n",
       "      <td>Online</td>\n",
       "      <td>222</td>\n",
       "      <td>74.50</td>\n",
       "      <td>57.68</td>\n",
       "    </tr>\n",
       "    <tr>\n",
       "      <th>4</th>\n",
       "      <td>Maharashtra</td>\n",
       "      <td>861.95</td>\n",
       "      <td>21</td>\n",
       "      <td>Medium</td>\n",
       "      <td>2020-12-14</td>\n",
       "      <td>8</td>\n",
       "      <td>Buttermilk</td>\n",
       "      <td>Mother Dairy</td>\n",
       "      <td>147.77</td>\n",
       "      <td>83.85</td>\n",
       "      <td>...</td>\n",
       "      <td>2020-10-17</td>\n",
       "      <td>2020-10-28</td>\n",
       "      <td>145</td>\n",
       "      <td>83.07</td>\n",
       "      <td>12045.15</td>\n",
       "      <td>Jharkhand</td>\n",
       "      <td>Retail</td>\n",
       "      <td>2</td>\n",
       "      <td>76.02</td>\n",
       "      <td>33.40</td>\n",
       "    </tr>\n",
       "    <tr>\n",
       "      <th>...</th>\n",
       "      <td>...</td>\n",
       "      <td>...</td>\n",
       "      <td>...</td>\n",
       "      <td>...</td>\n",
       "      <td>...</td>\n",
       "      <td>...</td>\n",
       "      <td>...</td>\n",
       "      <td>...</td>\n",
       "      <td>...</td>\n",
       "      <td>...</td>\n",
       "      <td>...</td>\n",
       "      <td>...</td>\n",
       "      <td>...</td>\n",
       "      <td>...</td>\n",
       "      <td>...</td>\n",
       "      <td>...</td>\n",
       "      <td>...</td>\n",
       "      <td>...</td>\n",
       "      <td>...</td>\n",
       "      <td>...</td>\n",
       "      <td>...</td>\n",
       "    </tr>\n",
       "    <tr>\n",
       "      <th>4320</th>\n",
       "      <td>Delhi</td>\n",
       "      <td>748.71</td>\n",
       "      <td>89</td>\n",
       "      <td>Medium</td>\n",
       "      <td>2022-02-24</td>\n",
       "      <td>6</td>\n",
       "      <td>Curd</td>\n",
       "      <td>Mother Dairy</td>\n",
       "      <td>554.90</td>\n",
       "      <td>88.45</td>\n",
       "      <td>...</td>\n",
       "      <td>2022-02-16</td>\n",
       "      <td>2022-02-21</td>\n",
       "      <td>352</td>\n",
       "      <td>87.20</td>\n",
       "      <td>30694.40</td>\n",
       "      <td>Uttar Pradesh</td>\n",
       "      <td>Online</td>\n",
       "      <td>202</td>\n",
       "      <td>98.07</td>\n",
       "      <td>33.53</td>\n",
       "    </tr>\n",
       "    <tr>\n",
       "      <th>4321</th>\n",
       "      <td>Jharkhand</td>\n",
       "      <td>385.91</td>\n",
       "      <td>29</td>\n",
       "      <td>Large</td>\n",
       "      <td>2022-05-14</td>\n",
       "      <td>4</td>\n",
       "      <td>Yogurt</td>\n",
       "      <td>Palle2patnam</td>\n",
       "      <td>818.33</td>\n",
       "      <td>55.35</td>\n",
       "      <td>...</td>\n",
       "      <td>2022-03-22</td>\n",
       "      <td>2022-04-14</td>\n",
       "      <td>68</td>\n",
       "      <td>58.39</td>\n",
       "      <td>3970.52</td>\n",
       "      <td>Kerala</td>\n",
       "      <td>Retail</td>\n",
       "      <td>750</td>\n",
       "      <td>87.41</td>\n",
       "      <td>114.37</td>\n",
       "    </tr>\n",
       "    <tr>\n",
       "      <th>4322</th>\n",
       "      <td>Chandigarh</td>\n",
       "      <td>311.54</td>\n",
       "      <td>65</td>\n",
       "      <td>Small</td>\n",
       "      <td>2020-01-05</td>\n",
       "      <td>6</td>\n",
       "      <td>Curd</td>\n",
       "      <td>Mother Dairy</td>\n",
       "      <td>583.56</td>\n",
       "      <td>92.61</td>\n",
       "      <td>...</td>\n",
       "      <td>2020-01-04</td>\n",
       "      <td>2020-01-11</td>\n",
       "      <td>141</td>\n",
       "      <td>89.46</td>\n",
       "      <td>12613.86</td>\n",
       "      <td>Haryana</td>\n",
       "      <td>Retail</td>\n",
       "      <td>442</td>\n",
       "      <td>33.47</td>\n",
       "      <td>153.66</td>\n",
       "    </tr>\n",
       "    <tr>\n",
       "      <th>4323</th>\n",
       "      <td>Maharashtra</td>\n",
       "      <td>890.55</td>\n",
       "      <td>90</td>\n",
       "      <td>Small</td>\n",
       "      <td>2022-10-25</td>\n",
       "      <td>6</td>\n",
       "      <td>Curd</td>\n",
       "      <td>Raj</td>\n",
       "      <td>3.10</td>\n",
       "      <td>15.30</td>\n",
       "      <td>...</td>\n",
       "      <td>2022-10-02</td>\n",
       "      <td>2022-10-09</td>\n",
       "      <td>2</td>\n",
       "      <td>10.56</td>\n",
       "      <td>21.12</td>\n",
       "      <td>Jharkhand</td>\n",
       "      <td>Wholesale</td>\n",
       "      <td>1</td>\n",
       "      <td>58.25</td>\n",
       "      <td>160.84</td>\n",
       "    </tr>\n",
       "    <tr>\n",
       "      <th>4324</th>\n",
       "      <td>Rajasthan</td>\n",
       "      <td>492.86</td>\n",
       "      <td>58</td>\n",
       "      <td>Large</td>\n",
       "      <td>2019-01-20</td>\n",
       "      <td>1</td>\n",
       "      <td>Milk</td>\n",
       "      <td>Mother Dairy</td>\n",
       "      <td>820.50</td>\n",
       "      <td>49.31</td>\n",
       "      <td>...</td>\n",
       "      <td>2019-01-06</td>\n",
       "      <td>2019-01-07</td>\n",
       "      <td>417</td>\n",
       "      <td>44.55</td>\n",
       "      <td>18577.35</td>\n",
       "      <td>Madhya Pradesh</td>\n",
       "      <td>Online</td>\n",
       "      <td>403</td>\n",
       "      <td>22.34</td>\n",
       "      <td>189.63</td>\n",
       "    </tr>\n",
       "  </tbody>\n",
       "</table>\n",
       "<p>4325 rows × 23 columns</p>\n",
       "</div>"
      ],
      "text/plain": [
       "           Location  Total Land Area (acres)  Number of Cows Farm Size  \\\n",
       "0         Telangana                   310.84              96    Medium   \n",
       "1     Uttar Pradesh                    19.19              44     Large   \n",
       "2        Tamil Nadu                   581.69              24    Medium   \n",
       "3         Telangana                   908.00              89     Small   \n",
       "4       Maharashtra                   861.95              21    Medium   \n",
       "...             ...                      ...             ...       ...   \n",
       "4320          Delhi                   748.71              89    Medium   \n",
       "4321      Jharkhand                   385.91              29     Large   \n",
       "4322     Chandigarh                   311.54              65     Small   \n",
       "4323    Maharashtra                   890.55              90     Small   \n",
       "4324      Rajasthan                   492.86              58     Large   \n",
       "\n",
       "            Date  Product ID Product Name                 Brand  \\\n",
       "0     2022-02-17           5    Ice Cream           Dodla Dairy   \n",
       "1     2021-12-01           1         Milk                  Amul   \n",
       "2     2022-02-28           4       Yogurt           Dodla Dairy   \n",
       "3     2019-06-09           3       Cheese  Britannia Industries   \n",
       "4     2020-12-14           8   Buttermilk          Mother Dairy   \n",
       "...          ...         ...          ...                   ...   \n",
       "4320  2022-02-24           6         Curd          Mother Dairy   \n",
       "4321  2022-05-14           4       Yogurt          Palle2patnam   \n",
       "4322  2020-01-05           6         Curd          Mother Dairy   \n",
       "4323  2022-10-25           6         Curd                   Raj   \n",
       "4324  2019-01-20           1         Milk          Mother Dairy   \n",
       "\n",
       "      Quantity (liters/kg)  Price per Unit  ...  Production Date  \\\n",
       "0                   222.40           85.72  ...       2021-12-27   \n",
       "1                   687.48           42.61  ...       2021-10-03   \n",
       "2                   503.48           36.50  ...       2022-01-14   \n",
       "3                   823.36           26.52  ...       2019-05-15   \n",
       "4                   147.77           83.85  ...       2020-10-17   \n",
       "...                    ...             ...  ...              ...   \n",
       "4320                554.90           88.45  ...       2022-02-16   \n",
       "4321                818.33           55.35  ...       2022-03-22   \n",
       "4322                583.56           92.61  ...       2020-01-04   \n",
       "4323                  3.10           15.30  ...       2022-10-02   \n",
       "4324                820.50           49.31  ...       2019-01-06   \n",
       "\n",
       "      Expiration Date Quantity Sold (liters/kg) Price per Unit (sold)  \\\n",
       "0          2022-01-21                         7                 82.24   \n",
       "1          2021-10-25                       558                 39.24   \n",
       "2          2022-02-13                       256                 33.81   \n",
       "3          2019-07-26                       601                 28.92   \n",
       "4          2020-10-28                       145                 83.07   \n",
       "...               ...                       ...                   ...   \n",
       "4320       2022-02-21                       352                 87.20   \n",
       "4321       2022-04-14                        68                 58.39   \n",
       "4322       2020-01-11                       141                 89.46   \n",
       "4323       2022-10-09                         2                 10.56   \n",
       "4324       2019-01-07                       417                 44.55   \n",
       "\n",
       "     Approx. Total Revenue(INR)  Customer Location  Sales Channel  \\\n",
       "0                        575.68     Madhya Pradesh      Wholesale   \n",
       "1                      21895.92             Kerala      Wholesale   \n",
       "2                       8655.36     Madhya Pradesh         Online   \n",
       "3                      17380.92          Rajasthan         Online   \n",
       "4                      12045.15          Jharkhand         Retail   \n",
       "...                         ...                ...            ...   \n",
       "4320                   30694.40      Uttar Pradesh         Online   \n",
       "4321                    3970.52             Kerala         Retail   \n",
       "4322                   12613.86            Haryana         Retail   \n",
       "4323                      21.12          Jharkhand      Wholesale   \n",
       "4324                   18577.35     Madhya Pradesh         Online   \n",
       "\n",
       "      Quantity in Stock (liters/kg) Minimum Stock Threshold (liters/kg)  \\\n",
       "0                               215                               19.55   \n",
       "1                               129                               43.17   \n",
       "2                               247                               15.10   \n",
       "3                               222                               74.50   \n",
       "4                                 2                               76.02   \n",
       "...                             ...                                 ...   \n",
       "4320                            202                               98.07   \n",
       "4321                            750                               87.41   \n",
       "4322                            442                               33.47   \n",
       "4323                              1                               58.25   \n",
       "4324                            403                               22.34   \n",
       "\n",
       "     Reorder Quantity (liters/kg)  \n",
       "0                           64.03  \n",
       "1                          181.10  \n",
       "2                          140.83  \n",
       "3                           57.68  \n",
       "4                           33.40  \n",
       "...                           ...  \n",
       "4320                        33.53  \n",
       "4321                       114.37  \n",
       "4322                       153.66  \n",
       "4323                       160.84  \n",
       "4324                       189.63  \n",
       "\n",
       "[4325 rows x 23 columns]"
      ]
     },
     "execution_count": 48,
     "metadata": {},
     "output_type": "execute_result"
    }
   ],
   "source": [
    "# Menampilkan data\n",
    "df_dairy"
   ]
  },
  {
   "cell_type": "markdown",
   "metadata": {},
   "source": [
    "### <b> Menampilkan Informasi Nama Kolom dan Tipe Kolom </b>"
   ]
  },
  {
   "cell_type": "code",
   "execution_count": 49,
   "metadata": {},
   "outputs": [
    {
     "data": {
      "text/plain": [
       "Index(['Location', 'Total Land Area (acres)', 'Number of Cows', 'Farm Size',\n",
       "       'Date', 'Product ID', 'Product Name', 'Brand', 'Quantity (liters/kg)',\n",
       "       'Price per Unit', 'Total Value', 'Shelf Life (days)',\n",
       "       'Storage Condition', 'Production Date', 'Expiration Date',\n",
       "       'Quantity Sold (liters/kg)', 'Price per Unit (sold)',\n",
       "       'Approx. Total Revenue(INR)', 'Customer Location', 'Sales Channel',\n",
       "       'Quantity in Stock (liters/kg)', 'Minimum Stock Threshold (liters/kg)',\n",
       "       'Reorder Quantity (liters/kg)'],\n",
       "      dtype='object')"
      ]
     },
     "execution_count": 49,
     "metadata": {},
     "output_type": "execute_result"
    }
   ],
   "source": [
    "# Menampilkan Informasi Nama-nama Kolom\n",
    "\n",
    "df_dairy.columns"
   ]
  },
  {
   "cell_type": "markdown",
   "metadata": {},
   "source": [
    "Informasi diatas merupakan informasi nama-nama kolom didalam dataset dairy_dataset. Dari data tersebut didapatkan 23 kolom dengan penjelasan sebagai berikut:\n",
    "\n",
    "1. Location                         : Nama kota \n",
    "\n",
    "2. Total Land Area (acres)          : Total luas tanah yang ditempati oleh peternakan    \n",
    "\n",
    "3. Number of Cows                   : Jumlah sapi yang ada di peternakan   \n",
    "\n",
    "4. Farm Size                        : Ukuran peternakan susu (dalam km persegi)           \n",
    "\n",
    "5. Date                             : Tanggal pencatatan data            \n",
    "\n",
    "6. Product ID                       : Pengidentifikasi unik untuk setiap produk            \n",
    "\n",
    "7. Product Name                     : Nama produk            \n",
    "\n",
    "8. Brand                            : Nama merk             \n",
    "\n",
    "9. Quantity (liters/kg)             : Jumlah produk yang tersedia           \n",
    "\n",
    "10. Price per Unit                  : Harga per unit produk            \n",
    "\n",
    "11. Total Value                     : Nilai total kuantitas produk yang tersedia\n",
    "\n",
    "12. Shelf Life (days)               : Umur simpan produk dalam hari             \n",
    "\n",
    "13. Storage Condition               : Kondisi penyimpanan yang direkomendasikan untuk produk              \n",
    "\n",
    "14. Production Date                 : Tanggal produksi produk susu            \n",
    "\n",
    "15. Expiration Date                 : Tanggal kadaluwarsa produk             \n",
    "\n",
    "16. Quantity Sold (liters/kg)       : Jumlah produk yang terjual             \n",
    "\n",
    "17. Price per Unit (sold)           : Harga per unit produk terjual.\n",
    "\n",
    "18. Approx. Total Revenue(INR)      : Pendapatan total perkiraan yang dihasilkan dari penjualan produk (dalam mata uang India)             \n",
    "\n",
    "19. Customer Location               : Lokasi pelanggan yang membeli produk             \n",
    "\n",
    "20. Sales Channel                   : Saluran melalui mana produk dijual (Ritel, Grosir, Online).\n",
    "\n",
    "22. Quantity in Stock (liters/kg)   : Jumlah produk yang tersisa dalam stok\n",
    "\n",
    "22. Minimum Stock Threshold (liters/kg) : Ambang batas stok minimum untuk produk\n",
    "\n",
    "23. Reorder Quantity (liters/kg)        : Jumlah yang direkomendasikan untuk dipesan ulang untuk produk"
   ]
  },
  {
   "cell_type": "code",
   "execution_count": 72,
   "metadata": {},
   "outputs": [
    {
     "name": "stdout",
     "output_type": "stream",
     "text": [
      "<class 'pandas.core.frame.DataFrame'>\n",
      "RangeIndex: 4325 entries, 0 to 4324\n",
      "Data columns (total 23 columns):\n",
      " #   Column                               Non-Null Count  Dtype  \n",
      "---  ------                               --------------  -----  \n",
      " 0   Location                             4325 non-null   object \n",
      " 1   Total Land Area (acres)              4325 non-null   float64\n",
      " 2   Number of Cows                       4325 non-null   int64  \n",
      " 3   Farm Size                            4325 non-null   object \n",
      " 4   Date                                 4325 non-null   object \n",
      " 5   Product ID                           4325 non-null   int64  \n",
      " 6   Product Name                         4325 non-null   object \n",
      " 7   Brand                                4325 non-null   object \n",
      " 8   Quantity (liters/kg)                 4325 non-null   float64\n",
      " 9   Price per Unit                       4325 non-null   float64\n",
      " 10  Total Value                          4325 non-null   float64\n",
      " 11  Shelf Life (days)                    4325 non-null   int64  \n",
      " 12  Storage Condition                    4325 non-null   object \n",
      " 13  Production Date                      4325 non-null   object \n",
      " 14  Expiration Date                      4325 non-null   object \n",
      " 15  Quantity Sold (liters/kg)            4325 non-null   int64  \n",
      " 16  Price per Unit (sold)                4325 non-null   float64\n",
      " 17  Approx. Total Revenue(INR)           4325 non-null   float64\n",
      " 18  Customer Location                    4325 non-null   object \n",
      " 19  Sales Channel                        4325 non-null   object \n",
      " 20  Quantity in Stock (liters/kg)        4325 non-null   int64  \n",
      " 21  Minimum Stock Threshold (liters/kg)  4325 non-null   float64\n",
      " 22  Reorder Quantity (liters/kg)         4325 non-null   float64\n",
      "dtypes: float64(8), int64(5), object(10)\n",
      "memory usage: 777.3+ KB\n"
     ]
    }
   ],
   "source": [
    "# Menampilkan Informasi Tipe Data\n",
    "\n",
    "df_dairy.info()"
   ]
  },
  {
   "cell_type": "markdown",
   "metadata": {},
   "source": [
    "Data yang ditampilkan memiliki 23 kolom dan 4325 baris, dimana pada data tersebut terdapat 11 kolom dengan tipe object, 8 kolom dengan tipe float64, dan 4 kolom dengan tipe int64. "
   ]
  },
  {
   "cell_type": "markdown",
   "metadata": {},
   "source": [
    "# <b> Data Cleaning </b>"
   ]
  },
  {
   "cell_type": "markdown",
   "metadata": {},
   "source": [
    "## <b> Missing Values </b>"
   ]
  },
  {
   "cell_type": "code",
   "execution_count": 51,
   "metadata": {},
   "outputs": [
    {
     "data": {
      "text/plain": [
       "Location                               0\n",
       "Total Land Area (acres)                0\n",
       "Number of Cows                         0\n",
       "Farm Size                              0\n",
       "Date                                   0\n",
       "Product ID                             0\n",
       "Product Name                           0\n",
       "Brand                                  0\n",
       "Quantity (liters/kg)                   0\n",
       "Price per Unit                         0\n",
       "Total Value                            0\n",
       "Shelf Life (days)                      0\n",
       "Storage Condition                      0\n",
       "Production Date                        0\n",
       "Expiration Date                        0\n",
       "Quantity Sold (liters/kg)              0\n",
       "Price per Unit (sold)                  0\n",
       "Approx. Total Revenue(INR)             0\n",
       "Customer Location                      0\n",
       "Sales Channel                          0\n",
       "Quantity in Stock (liters/kg)          0\n",
       "Minimum Stock Threshold (liters/kg)    0\n",
       "Reorder Quantity (liters/kg)           0\n",
       "dtype: int64"
      ]
     },
     "execution_count": 51,
     "metadata": {},
     "output_type": "execute_result"
    }
   ],
   "source": [
    "# Melakukan pengecekan missing values\n",
    "\n",
    "df_dairy.isnull().sum()"
   ]
  },
  {
   "cell_type": "markdown",
   "metadata": {},
   "source": [
    "Data diatas menunjukkan tidak terdapat missing values pada setiap kolom."
   ]
  },
  {
   "cell_type": "markdown",
   "metadata": {},
   "source": [
    "### <b> Data Duplicate </b>"
   ]
  },
  {
   "cell_type": "code",
   "execution_count": 52,
   "metadata": {},
   "outputs": [
    {
     "data": {
      "text/plain": [
       "0"
      ]
     },
     "execution_count": 52,
     "metadata": {},
     "output_type": "execute_result"
    }
   ],
   "source": [
    "# Melakukan pengecekan data duplicate\n",
    "\n",
    "df_dairy.duplicated().sum()"
   ]
  },
  {
   "cell_type": "markdown",
   "metadata": {},
   "source": [
    "Data diatas menunjukkan tidak terdapat data duplicate pada setiap kolom."
   ]
  },
  {
   "cell_type": "markdown",
   "metadata": {},
   "source": [
    "# <b> Analisis dan Perhitungan </b>"
   ]
  },
  {
   "cell_type": "markdown",
   "metadata": {},
   "source": [
    "## <b> 1. Bagaimana pemusatan dan distribusi penjualan dairy products pada kolom Quantity Sold (liters/kg)? </b>"
   ]
  },
  {
   "cell_type": "code",
   "execution_count": 53,
   "metadata": {},
   "outputs": [
    {
     "data": {
      "text/html": [
       "<div>\n",
       "<style scoped>\n",
       "    .dataframe tbody tr th:only-of-type {\n",
       "        vertical-align: middle;\n",
       "    }\n",
       "\n",
       "    .dataframe tbody tr th {\n",
       "        vertical-align: top;\n",
       "    }\n",
       "\n",
       "    .dataframe thead th {\n",
       "        text-align: right;\n",
       "    }\n",
       "</style>\n",
       "<table border=\"1\" class=\"dataframe\">\n",
       "  <thead>\n",
       "    <tr style=\"text-align: right;\">\n",
       "      <th></th>\n",
       "      <th>Location</th>\n",
       "      <th>Total Land Area (acres)</th>\n",
       "      <th>Number of Cows</th>\n",
       "      <th>Farm Size</th>\n",
       "      <th>Date</th>\n",
       "      <th>Product ID</th>\n",
       "      <th>Product Name</th>\n",
       "      <th>Brand</th>\n",
       "      <th>Quantity (liters/kg)</th>\n",
       "      <th>Price per Unit</th>\n",
       "      <th>...</th>\n",
       "      <th>Production Date</th>\n",
       "      <th>Expiration Date</th>\n",
       "      <th>Quantity Sold (liters/kg)</th>\n",
       "      <th>Price per Unit (sold)</th>\n",
       "      <th>Approx. Total Revenue(INR)</th>\n",
       "      <th>Customer Location</th>\n",
       "      <th>Sales Channel</th>\n",
       "      <th>Quantity in Stock (liters/kg)</th>\n",
       "      <th>Minimum Stock Threshold (liters/kg)</th>\n",
       "      <th>Reorder Quantity (liters/kg)</th>\n",
       "    </tr>\n",
       "  </thead>\n",
       "  <tbody>\n",
       "    <tr>\n",
       "      <th>0</th>\n",
       "      <td>Telangana</td>\n",
       "      <td>310.84</td>\n",
       "      <td>96</td>\n",
       "      <td>Medium</td>\n",
       "      <td>2022-02-17</td>\n",
       "      <td>5</td>\n",
       "      <td>Ice Cream</td>\n",
       "      <td>Dodla Dairy</td>\n",
       "      <td>222.40</td>\n",
       "      <td>85.72</td>\n",
       "      <td>...</td>\n",
       "      <td>2021-12-27</td>\n",
       "      <td>2022-01-21</td>\n",
       "      <td>7</td>\n",
       "      <td>82.24</td>\n",
       "      <td>575.68</td>\n",
       "      <td>Madhya Pradesh</td>\n",
       "      <td>Wholesale</td>\n",
       "      <td>215</td>\n",
       "      <td>19.55</td>\n",
       "      <td>64.03</td>\n",
       "    </tr>\n",
       "    <tr>\n",
       "      <th>1</th>\n",
       "      <td>Uttar Pradesh</td>\n",
       "      <td>19.19</td>\n",
       "      <td>44</td>\n",
       "      <td>Large</td>\n",
       "      <td>2021-12-01</td>\n",
       "      <td>1</td>\n",
       "      <td>Milk</td>\n",
       "      <td>Amul</td>\n",
       "      <td>687.48</td>\n",
       "      <td>42.61</td>\n",
       "      <td>...</td>\n",
       "      <td>2021-10-03</td>\n",
       "      <td>2021-10-25</td>\n",
       "      <td>558</td>\n",
       "      <td>39.24</td>\n",
       "      <td>21895.92</td>\n",
       "      <td>Kerala</td>\n",
       "      <td>Wholesale</td>\n",
       "      <td>129</td>\n",
       "      <td>43.17</td>\n",
       "      <td>181.10</td>\n",
       "    </tr>\n",
       "    <tr>\n",
       "      <th>2</th>\n",
       "      <td>Tamil Nadu</td>\n",
       "      <td>581.69</td>\n",
       "      <td>24</td>\n",
       "      <td>Medium</td>\n",
       "      <td>2022-02-28</td>\n",
       "      <td>4</td>\n",
       "      <td>Yogurt</td>\n",
       "      <td>Dodla Dairy</td>\n",
       "      <td>503.48</td>\n",
       "      <td>36.50</td>\n",
       "      <td>...</td>\n",
       "      <td>2022-01-14</td>\n",
       "      <td>2022-02-13</td>\n",
       "      <td>256</td>\n",
       "      <td>33.81</td>\n",
       "      <td>8655.36</td>\n",
       "      <td>Madhya Pradesh</td>\n",
       "      <td>Online</td>\n",
       "      <td>247</td>\n",
       "      <td>15.10</td>\n",
       "      <td>140.83</td>\n",
       "    </tr>\n",
       "    <tr>\n",
       "      <th>3</th>\n",
       "      <td>Telangana</td>\n",
       "      <td>908.00</td>\n",
       "      <td>89</td>\n",
       "      <td>Small</td>\n",
       "      <td>2019-06-09</td>\n",
       "      <td>3</td>\n",
       "      <td>Cheese</td>\n",
       "      <td>Britannia Industries</td>\n",
       "      <td>823.36</td>\n",
       "      <td>26.52</td>\n",
       "      <td>...</td>\n",
       "      <td>2019-05-15</td>\n",
       "      <td>2019-07-26</td>\n",
       "      <td>601</td>\n",
       "      <td>28.92</td>\n",
       "      <td>17380.92</td>\n",
       "      <td>Rajasthan</td>\n",
       "      <td>Online</td>\n",
       "      <td>222</td>\n",
       "      <td>74.50</td>\n",
       "      <td>57.68</td>\n",
       "    </tr>\n",
       "    <tr>\n",
       "      <th>4</th>\n",
       "      <td>Maharashtra</td>\n",
       "      <td>861.95</td>\n",
       "      <td>21</td>\n",
       "      <td>Medium</td>\n",
       "      <td>2020-12-14</td>\n",
       "      <td>8</td>\n",
       "      <td>Buttermilk</td>\n",
       "      <td>Mother Dairy</td>\n",
       "      <td>147.77</td>\n",
       "      <td>83.85</td>\n",
       "      <td>...</td>\n",
       "      <td>2020-10-17</td>\n",
       "      <td>2020-10-28</td>\n",
       "      <td>145</td>\n",
       "      <td>83.07</td>\n",
       "      <td>12045.15</td>\n",
       "      <td>Jharkhand</td>\n",
       "      <td>Retail</td>\n",
       "      <td>2</td>\n",
       "      <td>76.02</td>\n",
       "      <td>33.40</td>\n",
       "    </tr>\n",
       "    <tr>\n",
       "      <th>...</th>\n",
       "      <td>...</td>\n",
       "      <td>...</td>\n",
       "      <td>...</td>\n",
       "      <td>...</td>\n",
       "      <td>...</td>\n",
       "      <td>...</td>\n",
       "      <td>...</td>\n",
       "      <td>...</td>\n",
       "      <td>...</td>\n",
       "      <td>...</td>\n",
       "      <td>...</td>\n",
       "      <td>...</td>\n",
       "      <td>...</td>\n",
       "      <td>...</td>\n",
       "      <td>...</td>\n",
       "      <td>...</td>\n",
       "      <td>...</td>\n",
       "      <td>...</td>\n",
       "      <td>...</td>\n",
       "      <td>...</td>\n",
       "      <td>...</td>\n",
       "    </tr>\n",
       "    <tr>\n",
       "      <th>4320</th>\n",
       "      <td>Delhi</td>\n",
       "      <td>748.71</td>\n",
       "      <td>89</td>\n",
       "      <td>Medium</td>\n",
       "      <td>2022-02-24</td>\n",
       "      <td>6</td>\n",
       "      <td>Curd</td>\n",
       "      <td>Mother Dairy</td>\n",
       "      <td>554.90</td>\n",
       "      <td>88.45</td>\n",
       "      <td>...</td>\n",
       "      <td>2022-02-16</td>\n",
       "      <td>2022-02-21</td>\n",
       "      <td>352</td>\n",
       "      <td>87.20</td>\n",
       "      <td>30694.40</td>\n",
       "      <td>Uttar Pradesh</td>\n",
       "      <td>Online</td>\n",
       "      <td>202</td>\n",
       "      <td>98.07</td>\n",
       "      <td>33.53</td>\n",
       "    </tr>\n",
       "    <tr>\n",
       "      <th>4321</th>\n",
       "      <td>Jharkhand</td>\n",
       "      <td>385.91</td>\n",
       "      <td>29</td>\n",
       "      <td>Large</td>\n",
       "      <td>2022-05-14</td>\n",
       "      <td>4</td>\n",
       "      <td>Yogurt</td>\n",
       "      <td>Palle2patnam</td>\n",
       "      <td>818.33</td>\n",
       "      <td>55.35</td>\n",
       "      <td>...</td>\n",
       "      <td>2022-03-22</td>\n",
       "      <td>2022-04-14</td>\n",
       "      <td>68</td>\n",
       "      <td>58.39</td>\n",
       "      <td>3970.52</td>\n",
       "      <td>Kerala</td>\n",
       "      <td>Retail</td>\n",
       "      <td>750</td>\n",
       "      <td>87.41</td>\n",
       "      <td>114.37</td>\n",
       "    </tr>\n",
       "    <tr>\n",
       "      <th>4322</th>\n",
       "      <td>Chandigarh</td>\n",
       "      <td>311.54</td>\n",
       "      <td>65</td>\n",
       "      <td>Small</td>\n",
       "      <td>2020-01-05</td>\n",
       "      <td>6</td>\n",
       "      <td>Curd</td>\n",
       "      <td>Mother Dairy</td>\n",
       "      <td>583.56</td>\n",
       "      <td>92.61</td>\n",
       "      <td>...</td>\n",
       "      <td>2020-01-04</td>\n",
       "      <td>2020-01-11</td>\n",
       "      <td>141</td>\n",
       "      <td>89.46</td>\n",
       "      <td>12613.86</td>\n",
       "      <td>Haryana</td>\n",
       "      <td>Retail</td>\n",
       "      <td>442</td>\n",
       "      <td>33.47</td>\n",
       "      <td>153.66</td>\n",
       "    </tr>\n",
       "    <tr>\n",
       "      <th>4323</th>\n",
       "      <td>Maharashtra</td>\n",
       "      <td>890.55</td>\n",
       "      <td>90</td>\n",
       "      <td>Small</td>\n",
       "      <td>2022-10-25</td>\n",
       "      <td>6</td>\n",
       "      <td>Curd</td>\n",
       "      <td>Raj</td>\n",
       "      <td>3.10</td>\n",
       "      <td>15.30</td>\n",
       "      <td>...</td>\n",
       "      <td>2022-10-02</td>\n",
       "      <td>2022-10-09</td>\n",
       "      <td>2</td>\n",
       "      <td>10.56</td>\n",
       "      <td>21.12</td>\n",
       "      <td>Jharkhand</td>\n",
       "      <td>Wholesale</td>\n",
       "      <td>1</td>\n",
       "      <td>58.25</td>\n",
       "      <td>160.84</td>\n",
       "    </tr>\n",
       "    <tr>\n",
       "      <th>4324</th>\n",
       "      <td>Rajasthan</td>\n",
       "      <td>492.86</td>\n",
       "      <td>58</td>\n",
       "      <td>Large</td>\n",
       "      <td>2019-01-20</td>\n",
       "      <td>1</td>\n",
       "      <td>Milk</td>\n",
       "      <td>Mother Dairy</td>\n",
       "      <td>820.50</td>\n",
       "      <td>49.31</td>\n",
       "      <td>...</td>\n",
       "      <td>2019-01-06</td>\n",
       "      <td>2019-01-07</td>\n",
       "      <td>417</td>\n",
       "      <td>44.55</td>\n",
       "      <td>18577.35</td>\n",
       "      <td>Madhya Pradesh</td>\n",
       "      <td>Online</td>\n",
       "      <td>403</td>\n",
       "      <td>22.34</td>\n",
       "      <td>189.63</td>\n",
       "    </tr>\n",
       "  </tbody>\n",
       "</table>\n",
       "<p>4325 rows × 23 columns</p>\n",
       "</div>"
      ],
      "text/plain": [
       "           Location  Total Land Area (acres)  Number of Cows Farm Size  \\\n",
       "0         Telangana                   310.84              96    Medium   \n",
       "1     Uttar Pradesh                    19.19              44     Large   \n",
       "2        Tamil Nadu                   581.69              24    Medium   \n",
       "3         Telangana                   908.00              89     Small   \n",
       "4       Maharashtra                   861.95              21    Medium   \n",
       "...             ...                      ...             ...       ...   \n",
       "4320          Delhi                   748.71              89    Medium   \n",
       "4321      Jharkhand                   385.91              29     Large   \n",
       "4322     Chandigarh                   311.54              65     Small   \n",
       "4323    Maharashtra                   890.55              90     Small   \n",
       "4324      Rajasthan                   492.86              58     Large   \n",
       "\n",
       "            Date  Product ID Product Name                 Brand  \\\n",
       "0     2022-02-17           5    Ice Cream           Dodla Dairy   \n",
       "1     2021-12-01           1         Milk                  Amul   \n",
       "2     2022-02-28           4       Yogurt           Dodla Dairy   \n",
       "3     2019-06-09           3       Cheese  Britannia Industries   \n",
       "4     2020-12-14           8   Buttermilk          Mother Dairy   \n",
       "...          ...         ...          ...                   ...   \n",
       "4320  2022-02-24           6         Curd          Mother Dairy   \n",
       "4321  2022-05-14           4       Yogurt          Palle2patnam   \n",
       "4322  2020-01-05           6         Curd          Mother Dairy   \n",
       "4323  2022-10-25           6         Curd                   Raj   \n",
       "4324  2019-01-20           1         Milk          Mother Dairy   \n",
       "\n",
       "      Quantity (liters/kg)  Price per Unit  ...  Production Date  \\\n",
       "0                   222.40           85.72  ...       2021-12-27   \n",
       "1                   687.48           42.61  ...       2021-10-03   \n",
       "2                   503.48           36.50  ...       2022-01-14   \n",
       "3                   823.36           26.52  ...       2019-05-15   \n",
       "4                   147.77           83.85  ...       2020-10-17   \n",
       "...                    ...             ...  ...              ...   \n",
       "4320                554.90           88.45  ...       2022-02-16   \n",
       "4321                818.33           55.35  ...       2022-03-22   \n",
       "4322                583.56           92.61  ...       2020-01-04   \n",
       "4323                  3.10           15.30  ...       2022-10-02   \n",
       "4324                820.50           49.31  ...       2019-01-06   \n",
       "\n",
       "      Expiration Date Quantity Sold (liters/kg) Price per Unit (sold)  \\\n",
       "0          2022-01-21                         7                 82.24   \n",
       "1          2021-10-25                       558                 39.24   \n",
       "2          2022-02-13                       256                 33.81   \n",
       "3          2019-07-26                       601                 28.92   \n",
       "4          2020-10-28                       145                 83.07   \n",
       "...               ...                       ...                   ...   \n",
       "4320       2022-02-21                       352                 87.20   \n",
       "4321       2022-04-14                        68                 58.39   \n",
       "4322       2020-01-11                       141                 89.46   \n",
       "4323       2022-10-09                         2                 10.56   \n",
       "4324       2019-01-07                       417                 44.55   \n",
       "\n",
       "     Approx. Total Revenue(INR)  Customer Location  Sales Channel  \\\n",
       "0                        575.68     Madhya Pradesh      Wholesale   \n",
       "1                      21895.92             Kerala      Wholesale   \n",
       "2                       8655.36     Madhya Pradesh         Online   \n",
       "3                      17380.92          Rajasthan         Online   \n",
       "4                      12045.15          Jharkhand         Retail   \n",
       "...                         ...                ...            ...   \n",
       "4320                   30694.40      Uttar Pradesh         Online   \n",
       "4321                    3970.52             Kerala         Retail   \n",
       "4322                   12613.86            Haryana         Retail   \n",
       "4323                      21.12          Jharkhand      Wholesale   \n",
       "4324                   18577.35     Madhya Pradesh         Online   \n",
       "\n",
       "      Quantity in Stock (liters/kg) Minimum Stock Threshold (liters/kg)  \\\n",
       "0                               215                               19.55   \n",
       "1                               129                               43.17   \n",
       "2                               247                               15.10   \n",
       "3                               222                               74.50   \n",
       "4                                 2                               76.02   \n",
       "...                             ...                                 ...   \n",
       "4320                            202                               98.07   \n",
       "4321                            750                               87.41   \n",
       "4322                            442                               33.47   \n",
       "4323                              1                               58.25   \n",
       "4324                            403                               22.34   \n",
       "\n",
       "     Reorder Quantity (liters/kg)  \n",
       "0                           64.03  \n",
       "1                          181.10  \n",
       "2                          140.83  \n",
       "3                           57.68  \n",
       "4                           33.40  \n",
       "...                           ...  \n",
       "4320                        33.53  \n",
       "4321                       114.37  \n",
       "4322                       153.66  \n",
       "4323                       160.84  \n",
       "4324                       189.63  \n",
       "\n",
       "[4325 rows x 23 columns]"
      ]
     },
     "execution_count": 53,
     "metadata": {},
     "output_type": "execute_result"
    }
   ],
   "source": [
    "# Menampilkan Data\n",
    "\n",
    "df_dairy"
   ]
  },
  {
   "cell_type": "code",
   "execution_count": 54,
   "metadata": {},
   "outputs": [
    {
     "name": "stdout",
     "output_type": "stream",
     "text": [
      "Mean Quantity Sold : 248.0950289017341\n",
      "Median Quantity Sold : 189.0\n",
      "Modus Quantity Sold : 1\n"
     ]
    }
   ],
   "source": [
    "# Menghitung mean, median, dan modus dari kolom 'Quantity Sold'\n",
    "\n",
    "print(f\"Mean Quantity Sold : {df_dairy['Quantity Sold (liters/kg)'].mean()}\")\n",
    "print(f\"Median Quantity Sold : {df_dairy['Quantity Sold (liters/kg)'].median()}\")\n",
    "print(f\"Modus Quantity Sold : {df_dairy['Quantity Sold (liters/kg)'].mode()[0]}\")"
   ]
  },
  {
   "cell_type": "markdown",
   "metadata": {},
   "source": [
    "Dari data diatas didapatkan hasil nilai rata-rata (mean) sebesar 248.0950289017341, nilai tengah (median) sebesar 189.0, dan nilai yang paling sering muncul dalam data (modus) sebesar 1. Dilihat dari nilai mean yang lebih besar daripada median, artinya data tersebut menunjukkan kecenderungan yang miring ke kanan. Namun untuk lebih pastinya perlu dilakukan Normality Test untuk mengetahui distribusi data tersebut terdistribusi secara normal atau tidak."
   ]
  },
  {
   "cell_type": "code",
   "execution_count": 55,
   "metadata": {},
   "outputs": [
    {
     "name": "stdout",
     "output_type": "stream",
     "text": [
      "Nilai Skewness : 0.9819825524214227\n",
      "Nilai Kurtosis : 0.2500022798870041\n"
     ]
    }
   ],
   "source": [
    "# Menghitung nilai skewness dan kurtosis dari kolom 'Quantity Sold'\n",
    "\n",
    "print(f\"Nilai Skewness : {df_dairy['Quantity Sold (liters/kg)'].skew()}\")\n",
    "print(f\"Nilai Kurtosis : {df_dairy['Quantity Sold (liters/kg)'].kurtosis()}\")"
   ]
  },
  {
   "cell_type": "markdown",
   "metadata": {},
   "source": [
    "Jika melihat distribusi data dari nilai skewness pada kolom \"Quantity Sold\" yang bernilai kurang dari 1, artinya distribusi data tersebut cenderung miring ke kanan (positif skewness) dan karena nilai skewnessnya positif menandakan distribusi data condong ke kanan(positif skewness) dan adanya ekor distribusi yang lebih panjang di sisi kanan. Sementara itu, nilai kurtosis sebesar 0.2500022798870041 artinya tipe kurtosis Leptokurtic dimana distribusi data cenderung lebih lebar pada ekor distribusi daripada distribusi data normal."
   ]
  },
  {
   "cell_type": "code",
   "execution_count": 56,
   "metadata": {},
   "outputs": [
    {
     "data": {
      "text/plain": [
       "<Axes: >"
      ]
     },
     "execution_count": 56,
     "metadata": {},
     "output_type": "execute_result"
    },
    {
     "data": {
      "image/png": "[encoded data removed]",
      "text/plain": [
       "<Figure size 1000x400 with 2 Axes>"
      ]
     },
     "metadata": {},
     "output_type": "display_data"
    }
   ],
   "source": [
    "# Membuat visualisasi distribusi data pada kolom \"Quantity Sold (liters/kg)\" dengan menggunakan library matplotlib\n",
    "\n",
    "fig, ax = plt.subplots(ncols=2,figsize=(10,4))\n",
    "\n",
    "df_dairy['Quantity Sold (liters/kg)'].plot(kind='hist',bins=20,ax=ax[0])\n",
    "df_dairy['Quantity Sold (liters/kg)'].plot(kind='box',ax=ax[1])"
   ]
  },
  {
   "cell_type": "markdown",
   "metadata": {},
   "source": [
    "Dari visualisasi distribusi data pada kolom \"Quantity Sold (liters/kg)\", dapat dilihat bahwa distribusi data condong ke kanan (positif skewness) dan memiliki ekor yang panjang ke arah kanan. Distribusi data ini juga terlihat memiliki nilai outlier (nilai ekstrim). Pada analisa berikutnya akan dilakukan analisis menggunakan data yang sudah dilakukan handling outlier dan dengan menggunakan data yang tidak dilakukan handling outlier untuk membandingkan hasil dari ANOVA Test."
   ]
  },
  {
   "cell_type": "markdown",
   "metadata": {},
   "source": [
    "## <b> 2. Apakah ada perbedaan dalam penjualan dairy products berdasarkan metode pembelian? </b>"
   ]
  },
  {
   "cell_type": "code",
   "execution_count": 65,
   "metadata": {},
   "outputs": [],
   "source": [
    "# import library yang dibutuhkan\n",
    "import scipy.stats as stats"
   ]
  },
  {
   "cell_type": "code",
   "execution_count": 66,
   "metadata": {},
   "outputs": [
    {
     "data": {
      "text/plain": [
       "array(['Wholesale', 'Online', 'Retail'], dtype=object)"
      ]
     },
     "execution_count": 66,
     "metadata": {},
     "output_type": "execute_result"
    }
   ],
   "source": [
    "# Menampilkan nilai unik dari kolom \"Sales Channel\"\n",
    "df_dairy['Sales Channel'].unique()"
   ]
  },
  {
   "cell_type": "markdown",
   "metadata": {},
   "source": [
    "Dari kolom 'Sales Channel' terdapat 3 kategori dalam melakukan pembelian yaitu 'Wholesale', 'Online', dan 'Retail'."
   ]
  },
  {
   "cell_type": "markdown",
   "metadata": {},
   "source": [
    "### Menentukan Hipotesis\n",
    "\n",
    "Dalam konteks data penjualan dairy product berdasarkan metode pembelian, ANOVA Test dapat membantu mengidentifikasi apakah terdapat perbedaan dalam dairy product antara metode pembelian wholesale, retail, ataupun online. Jika nilai p-value yang dihasilkan dari ANOVA Test kurang dari 0.05, maka H0 ditolak dan H1 diterima. Kemudian apabila nilai p-value yang dihasilkan dari ANOVA Test lebih dari 0.05, maka H0 diterima dan H1 ditolak.\n",
    "\n",
    "Analisis untuk mengetahui ada atau tidaknya perbedaan penjualan dairy product berdasarkan metode pembelian ini menggunakan ANOVA Test dengan hipotesis sebagai berikut: \n",
    "\n",
    "H0: Tidak ada perbedaan dalam rata-rata penjualan antara kelompok metode pembelian.\n",
    "\n",
    "H1: Terdapat perbedaan dalam rata-rata penjualan antara kelompok metode pembelian."
   ]
  },
  {
   "cell_type": "markdown",
   "metadata": {},
   "source": [
    "### <b> Handling Outlier </b>"
   ]
  },
  {
   "cell_type": "code",
   "execution_count": 73,
   "metadata": {},
   "outputs": [
    {
     "name": "stdout",
     "output_type": "stream",
     "text": [
      "Upper Boundary: 831.50\n",
      "Lower Boundary: -388.50\n"
     ]
    }
   ],
   "source": [
    "# Penanganan nilai outlier menggunakan Tukey's Rule\n",
    "q1 = df_dairy['Quantity Sold (liters/kg)'].quantile(0.25)\n",
    "q3 = df_dairy['Quantity Sold (liters/kg)'].quantile(0.75)\n",
    "iqr = q3-q1\n",
    "\n",
    "up_bound = q3 + 1.5*iqr\n",
    "low_bound = q1 - 1.5*iqr\n",
    "\n",
    "print(f'Upper Boundary: {up_bound:.2f}' )\n",
    "print(f'Lower Boundary: {low_bound:.2f}')"
   ]
  },
  {
   "cell_type": "markdown",
   "metadata": {},
   "source": [
    "Dalam melakukan penanganan outlier menggunakan Tukey's Rule dihasilkan nilai batas atas (Upper Boundary) 831.50 dan nilai batas bawah (Lower Boundary) adalah -388.50. "
   ]
  },
  {
   "cell_type": "code",
   "execution_count": 75,
   "metadata": {},
   "outputs": [
    {
     "data": {
      "text/plain": [
       "0         7\n",
       "1       558\n",
       "2       256\n",
       "3       601\n",
       "4       145\n",
       "       ... \n",
       "4320    352\n",
       "4321     68\n",
       "4322    141\n",
       "4323      2\n",
       "4324    417\n",
       "Name: Quantity Sold (liters/kg), Length: 4254, dtype: int64"
      ]
     },
     "execution_count": 75,
     "metadata": {},
     "output_type": "execute_result"
    }
   ],
   "source": [
    "# Membuat variable \"no_outlier\" yang berisi nilai yang tidak dianggap sebagai outlier berdasarkan batas bawah (low_bound) dan batas atas (up_bound)\n",
    "no_outlier = df_dairy['Quantity Sold (liters/kg)'][(df_dairy['Quantity Sold (liters/kg)']>=low_bound) & (df_dairy['Quantity Sold (liters/kg)']<=up_bound)]\n",
    "no_outlier"
   ]
  },
  {
   "cell_type": "markdown",
   "metadata": {},
   "source": [
    "Setelah dibuat variable baru 'no_outlier' yang berisi nilai yang tidak dianggap sebagai outlier berdasarkan batas bawah (low_bound) dan batas atas (up_bound), jumlah data menjadi 4254."
   ]
  },
  {
   "cell_type": "code",
   "execution_count": 78,
   "metadata": {},
   "outputs": [
    {
     "name": "stdout",
     "output_type": "stream",
     "text": [
      "Average produk terjual dari pembelian melalui Wholesale : 238.71\n",
      "Average produk terjual dari pembelian melalui Online : 231.19\n",
      "Average produk terjual dari pembelian melalui Retail : 241.92\n"
     ]
    }
   ],
   "source": [
    "# Membuat data baru berdasarakan Quantity Sold (liters/kg) dan metode pembelian\n",
    "Wholesale_handling_outlier = no_outlier[(df_dairy['Sales Channel']=='Wholesale')]\n",
    "Online_handling_outlier = no_outlier[(df_dairy['Sales Channel']=='Online')]\n",
    "Retail_handling_outlier = no_outlier[(df_dairy['Sales Channel']=='Retail')]\n",
    "\n",
    "# Menampilkan hasil\n",
    "print(f'Average produk terjual dari pembelian melalui Wholesale : {Wholesale_handling_outlier.mean():.2f}')\n",
    "print(f'Average produk terjual dari pembelian melalui Online : {Online_handling_outlier.mean():.2f}')\n",
    "print(f'Average produk terjual dari pembelian melalui Retail : {Retail_handling_outlier.mean():.2f}')"
   ]
  },
  {
   "cell_type": "markdown",
   "metadata": {},
   "source": [
    "Perhitungan nilai rata-rata produk terjual dari pembelian melalui Wholesale, Online, dan Retail memiliki nilai yang tidak berbeda jauh. Artinya tidak ada perbedaan yang signifikan antara ketiga metode pembelian. Namun untuk lebih pastinya dapat dilakukan Uji ANOVA untuk memvalidasi pernyataan tersebut. "
   ]
  },
  {
   "cell_type": "code",
   "execution_count": 81,
   "metadata": {},
   "outputs": [
    {
     "name": "stdout",
     "output_type": "stream",
     "text": [
      "P-value: 0.3564442933212583\n"
     ]
    }
   ],
   "source": [
    "# Melakukan uji Anova dengan data yang sudah dilakukan penanganan outlier\n",
    "res = stats.f_oneway(Wholesale_handling_outlier, Online_handling_outlier, Retail_handling_outlier)\n",
    "print('P-value:',res.pvalue)"
   ]
  },
  {
   "cell_type": "markdown",
   "metadata": {},
   "source": [
    "Hasil uji ANOVA pada data yang dilakukan penanganan outlier menunjukkan bahwa p-value lebih besar dari 0.05, artinya H0 diterima dan H1 ditolak. Dengan kata lain, tidak ada perbedaan dalam rata-rata penjualan antara kelompok metode pembelian (wholesale, online, dan retail)."
   ]
  },
  {
   "cell_type": "markdown",
   "metadata": {},
   "source": [
    "### <b> Tanpa Handling Outlier </b>"
   ]
  },
  {
   "cell_type": "code",
   "execution_count": 79,
   "metadata": {},
   "outputs": [
    {
     "name": "stdout",
     "output_type": "stream",
     "text": [
      "Average produk terjual dari pembelian melalui Wholesale : 250.12\n",
      "Average produk terjual dari pembelian melalui Online : 239.99\n",
      "Average produk terjual dari pembelian melalui Retail : 253.59\n"
     ]
    }
   ],
   "source": [
    "# Membuat data baru berdasarakan Quantity Sold (liters/kg) dan metode pembelian\n",
    "Wholesale = df_dairy['Quantity Sold (liters/kg)'][(df_dairy['Sales Channel']=='Wholesale')]\n",
    "Online = df_dairy['Quantity Sold (liters/kg)'][(df_dairy['Sales Channel']=='Online')]\n",
    "Retail = df_dairy['Quantity Sold (liters/kg)'][(df_dairy['Sales Channel']=='Retail')]\n",
    "\n",
    "# Menampilkan hasil\n",
    "print(f'Average produk terjual dari pembelian melalui Wholesale : {Wholesale.mean():.2f}')\n",
    "print(f'Average produk terjual dari pembelian melalui Online : {Online.mean():.2f}')\n",
    "print(f'Average produk terjual dari pembelian melalui Retail : {Retail.mean():.2f}')"
   ]
  },
  {
   "cell_type": "markdown",
   "metadata": {},
   "source": [
    "Perhitungan nilai rata-rata produk terjual dari pembelian melalui Wholesale, Online, dan Retail memiliki nilai yang tidak berbeda jauh. Artinya tidak ada perbedaan yang signifikan antara ketiga metode pembelian. Namun untuk lebih pastinya dapat dilakukan Uji ANOVA untuk memvalidasi pernyataan tersebut. "
   ]
  },
  {
   "cell_type": "code",
   "execution_count": 82,
   "metadata": {},
   "outputs": [
    {
     "name": "stdout",
     "output_type": "stream",
     "text": [
      "P-value: 0.22478140931385507\n"
     ]
    }
   ],
   "source": [
    "# Melakukan uji Anova dengan data yang tidak dilakukan penanganan outlier\n",
    "res = stats.f_oneway(Wholesale, Online, Retail)\n",
    "print('P-value:',res.pvalue)"
   ]
  },
  {
   "cell_type": "markdown",
   "metadata": {},
   "source": [
    "Hasil uji ANOVA pada data yang tidak dilakukan penanganan outlier menunjukkan bahwa p-value lebih besar dari 0.05, artinya H0 diterima dan H1 ditolak. Dengan kata lain, tidak ada perbedaan dalam rata-rata penjualan antara kelompok metode pembelian (wholesale, online, dan retail)."
   ]
  },
  {
   "cell_type": "markdown",
   "metadata": {},
   "source": [
    "### <b> Hasil Perbandingan Uji ANOVA pada Handling Outlier dan Tanpa Handling Outlier </b>"
   ]
  },
  {
   "cell_type": "markdown",
   "metadata": {},
   "source": [
    "Hasil pada ANOVA test diatas pada data yang sudah dilakukan handling outlier menunjukkan nilai P sebesar 0.3564442933212583, sedangkan pada data yang tidak dilakukan handling outlier menunjukkan nilai P sebesar 0.22478140931385507. Kedua hasil pengujian tersebut sama-sama menunjukkan bahwa nilai P lebih dari 0.05 yang artinya H0 diterima dan H1 ditolak. Dengan kata lain, tidak ada perbedaan dalam rata-rata penjualan antara kelompok metode pembelian baik dengan data yang memiliki nilai outlier maupun dengan data yang sudah dilakukan penanganan nilai outlier. Metode pembelian menggunakan wholesale, retail, ataupun online dapat dilakukan karena tidak memiliki perbedaan."
   ]
  },
  {
   "cell_type": "markdown",
   "metadata": {},
   "source": [
    "## <b> 3. Brand mana yang paling banyak menjual produk dairy? </b>"
   ]
  },
  {
   "cell_type": "code",
   "execution_count": 67,
   "metadata": {},
   "outputs": [
    {
     "data": {
      "text/html": [
       "<div>\n",
       "<style scoped>\n",
       "    .dataframe tbody tr th:only-of-type {\n",
       "        vertical-align: middle;\n",
       "    }\n",
       "\n",
       "    .dataframe tbody tr th {\n",
       "        vertical-align: top;\n",
       "    }\n",
       "\n",
       "    .dataframe thead th {\n",
       "        text-align: right;\n",
       "    }\n",
       "</style>\n",
       "<table border=\"1\" class=\"dataframe\">\n",
       "  <thead>\n",
       "    <tr style=\"text-align: right;\">\n",
       "      <th></th>\n",
       "      <th>Brand</th>\n",
       "      <th>Quantity Sold (liters/kg)</th>\n",
       "    </tr>\n",
       "  </thead>\n",
       "  <tbody>\n",
       "    <tr>\n",
       "      <th>0</th>\n",
       "      <td>Amul</td>\n",
       "      <td>264450</td>\n",
       "    </tr>\n",
       "    <tr>\n",
       "      <th>4</th>\n",
       "      <td>Mother Dairy</td>\n",
       "      <td>251745</td>\n",
       "    </tr>\n",
       "    <tr>\n",
       "      <th>8</th>\n",
       "      <td>Raj</td>\n",
       "      <td>174742</td>\n",
       "    </tr>\n",
       "    <tr>\n",
       "      <th>9</th>\n",
       "      <td>Sudha</td>\n",
       "      <td>148917</td>\n",
       "    </tr>\n",
       "    <tr>\n",
       "      <th>5</th>\n",
       "      <td>Palle2patnam</td>\n",
       "      <td>51119</td>\n",
       "    </tr>\n",
       "    <tr>\n",
       "      <th>2</th>\n",
       "      <td>Dodla Dairy</td>\n",
       "      <td>49667</td>\n",
       "    </tr>\n",
       "    <tr>\n",
       "      <th>10</th>\n",
       "      <td>Warana</td>\n",
       "      <td>30494</td>\n",
       "    </tr>\n",
       "    <tr>\n",
       "      <th>7</th>\n",
       "      <td>Passion Cheese</td>\n",
       "      <td>27296</td>\n",
       "    </tr>\n",
       "    <tr>\n",
       "      <th>3</th>\n",
       "      <td>Dynamix Dairies</td>\n",
       "      <td>26772</td>\n",
       "    </tr>\n",
       "    <tr>\n",
       "      <th>6</th>\n",
       "      <td>Parag Milk Foods</td>\n",
       "      <td>26762</td>\n",
       "    </tr>\n",
       "    <tr>\n",
       "      <th>1</th>\n",
       "      <td>Britannia Industries</td>\n",
       "      <td>21047</td>\n",
       "    </tr>\n",
       "  </tbody>\n",
       "</table>\n",
       "</div>"
      ],
      "text/plain": [
       "                   Brand  Quantity Sold (liters/kg)\n",
       "0                   Amul                     264450\n",
       "4           Mother Dairy                     251745\n",
       "8                    Raj                     174742\n",
       "9                  Sudha                     148917\n",
       "5           Palle2patnam                      51119\n",
       "2            Dodla Dairy                      49667\n",
       "10                Warana                      30494\n",
       "7         Passion Cheese                      27296\n",
       "3        Dynamix Dairies                      26772\n",
       "6       Parag Milk Foods                      26762\n",
       "1   Britannia Industries                      21047"
      ]
     },
     "execution_count": 67,
     "metadata": {},
     "output_type": "execute_result"
    }
   ],
   "source": [
    "# Mengelompokkan data berdasarkan brand dan menghitung total penjualan dari kolom \"Quantity Sold (liters/kg)\"\n",
    "penjualan_brand = df_dairy.groupby('Brand')['Quantity Sold (liters/kg)'].sum().reset_index()\n",
    "\n",
    "# Mengurutkan berdasarkan dari total penjualan terbanyak\n",
    "penjualan_brand = penjualan_brand.sort_values(by='Quantity Sold (liters/kg)', ascending=False)\n",
    "\n",
    "# Menampilkan data\n",
    "penjualan_brand"
   ]
  },
  {
   "cell_type": "markdown",
   "metadata": {},
   "source": [
    "Setelah dilakukan perhitungan total penjualan berdasarkan brand dan mengurutkan penjualan dari brand yang menjual produk terbanyak, didapatkan hasil bahwa brand Amul menjual produk dairy terbanyak yaitu sebanyak 264450 liters/kg dalam periode tahun 2019-2022."
   ]
  },
  {
   "cell_type": "code",
   "execution_count": 68,
   "metadata": {},
   "outputs": [
    {
     "data": {
      "image/png": "[encoded data removed]",
      "text/plain": [
       "<Figure size 1000x600 with 1 Axes>"
      ]
     },
     "metadata": {},
     "output_type": "display_data"
    }
   ],
   "source": [
    "# Membuat bar chart\n",
    "plt.figure(figsize=(10, 6))\n",
    "plt.bar(penjualan_brand['Brand'], penjualan_brand['Quantity Sold (liters/kg)'])\n",
    "plt.xlabel('Brand')\n",
    "plt.ylabel('Total Quantity Sold (liters/kg)')\n",
    "plt.title('Comparison of Dairy Products Sales by Brand')\n",
    "plt.xticks(rotation=45, ha='right')\n",
    "\n",
    "# Menampilkan bar chart\n",
    "plt.show()\n"
   ]
  },
  {
   "cell_type": "markdown",
   "metadata": {},
   "source": [
    "Dari visualisasi bar chart diatas dapat dilihat bahwa brand Amul merupakan brand yang produknya paling banyak terjual, kemudian pada posisi kedua adalah brand Mother Dairy dan brand ketiga adalah brand Raj."
   ]
  },
  {
   "cell_type": "markdown",
   "metadata": {},
   "source": [
    "## <b> 4. Bagaimana tren penjualan dari 3 brand yang paling banyak menjual product dairy? </b>"
   ]
  },
  {
   "cell_type": "code",
   "execution_count": 22,
   "metadata": {},
   "outputs": [
    {
     "name": "stdout",
     "output_type": "stream",
     "text": [
      "<class 'pandas.core.frame.DataFrame'>\n",
      "RangeIndex: 4325 entries, 0 to 4324\n",
      "Data columns (total 23 columns):\n",
      " #   Column                               Non-Null Count  Dtype  \n",
      "---  ------                               --------------  -----  \n",
      " 0   Location                             4325 non-null   object \n",
      " 1   Total Land Area (acres)              4325 non-null   float64\n",
      " 2   Number of Cows                       4325 non-null   int64  \n",
      " 3   Farm Size                            4325 non-null   object \n",
      " 4   Date                                 4325 non-null   object \n",
      " 5   Product ID                           4325 non-null   int64  \n",
      " 6   Product Name                         4325 non-null   object \n",
      " 7   Brand                                4325 non-null   object \n",
      " 8   Quantity (liters/kg)                 4325 non-null   float64\n",
      " 9   Price per Unit                       4325 non-null   float64\n",
      " 10  Total Value                          4325 non-null   float64\n",
      " 11  Shelf Life (days)                    4325 non-null   int64  \n",
      " 12  Storage Condition                    4325 non-null   object \n",
      " 13  Production Date                      4325 non-null   object \n",
      " 14  Expiration Date                      4325 non-null   object \n",
      " 15  Quantity Sold (liters/kg)            4325 non-null   int64  \n",
      " 16  Price per Unit (sold)                4325 non-null   float64\n",
      " 17  Approx. Total Revenue(INR)           4325 non-null   float64\n",
      " 18  Customer Location                    4325 non-null   object \n",
      " 19  Sales Channel                        4325 non-null   object \n",
      " 20  Quantity in Stock (liters/kg)        4325 non-null   int64  \n",
      " 21  Minimum Stock Threshold (liters/kg)  4325 non-null   float64\n",
      " 22  Reorder Quantity (liters/kg)         4325 non-null   float64\n",
      "dtypes: float64(8), int64(5), object(10)\n",
      "memory usage: 777.3+ KB\n"
     ]
    }
   ],
   "source": [
    "# Menampilkan data\n",
    "df_dairy.info()"
   ]
  },
  {
   "cell_type": "code",
   "execution_count": 26,
   "metadata": {},
   "outputs": [
    {
     "data": {
      "text/html": [
       "<div>\n",
       "<style scoped>\n",
       "    .dataframe tbody tr th:only-of-type {\n",
       "        vertical-align: middle;\n",
       "    }\n",
       "\n",
       "    .dataframe tbody tr th {\n",
       "        vertical-align: top;\n",
       "    }\n",
       "\n",
       "    .dataframe thead th {\n",
       "        text-align: right;\n",
       "    }\n",
       "</style>\n",
       "<table border=\"1\" class=\"dataframe\">\n",
       "  <thead>\n",
       "    <tr style=\"text-align: right;\">\n",
       "      <th></th>\n",
       "      <th>Brand</th>\n",
       "      <th>Year</th>\n",
       "      <th>Quantity Sold (liters/kg)</th>\n",
       "    </tr>\n",
       "  </thead>\n",
       "  <tbody>\n",
       "    <tr>\n",
       "      <th>0</th>\n",
       "      <td>Amul</td>\n",
       "      <td>2019</td>\n",
       "      <td>65568</td>\n",
       "    </tr>\n",
       "    <tr>\n",
       "      <th>1</th>\n",
       "      <td>Amul</td>\n",
       "      <td>2020</td>\n",
       "      <td>73662</td>\n",
       "    </tr>\n",
       "    <tr>\n",
       "      <th>2</th>\n",
       "      <td>Amul</td>\n",
       "      <td>2021</td>\n",
       "      <td>62540</td>\n",
       "    </tr>\n",
       "    <tr>\n",
       "      <th>3</th>\n",
       "      <td>Amul</td>\n",
       "      <td>2022</td>\n",
       "      <td>62680</td>\n",
       "    </tr>\n",
       "    <tr>\n",
       "      <th>16</th>\n",
       "      <td>Mother Dairy</td>\n",
       "      <td>2019</td>\n",
       "      <td>71219</td>\n",
       "    </tr>\n",
       "    <tr>\n",
       "      <th>17</th>\n",
       "      <td>Mother Dairy</td>\n",
       "      <td>2020</td>\n",
       "      <td>63732</td>\n",
       "    </tr>\n",
       "    <tr>\n",
       "      <th>18</th>\n",
       "      <td>Mother Dairy</td>\n",
       "      <td>2021</td>\n",
       "      <td>63100</td>\n",
       "    </tr>\n",
       "    <tr>\n",
       "      <th>19</th>\n",
       "      <td>Mother Dairy</td>\n",
       "      <td>2022</td>\n",
       "      <td>53694</td>\n",
       "    </tr>\n",
       "    <tr>\n",
       "      <th>32</th>\n",
       "      <td>Raj</td>\n",
       "      <td>2019</td>\n",
       "      <td>43405</td>\n",
       "    </tr>\n",
       "    <tr>\n",
       "      <th>33</th>\n",
       "      <td>Raj</td>\n",
       "      <td>2020</td>\n",
       "      <td>44887</td>\n",
       "    </tr>\n",
       "    <tr>\n",
       "      <th>34</th>\n",
       "      <td>Raj</td>\n",
       "      <td>2021</td>\n",
       "      <td>39159</td>\n",
       "    </tr>\n",
       "    <tr>\n",
       "      <th>35</th>\n",
       "      <td>Raj</td>\n",
       "      <td>2022</td>\n",
       "      <td>47291</td>\n",
       "    </tr>\n",
       "  </tbody>\n",
       "</table>\n",
       "</div>"
      ],
      "text/plain": [
       "           Brand  Year  Quantity Sold (liters/kg)\n",
       "0           Amul  2019                      65568\n",
       "1           Amul  2020                      73662\n",
       "2           Amul  2021                      62540\n",
       "3           Amul  2022                      62680\n",
       "16  Mother Dairy  2019                      71219\n",
       "17  Mother Dairy  2020                      63732\n",
       "18  Mother Dairy  2021                      63100\n",
       "19  Mother Dairy  2022                      53694\n",
       "32           Raj  2019                      43405\n",
       "33           Raj  2020                      44887\n",
       "34           Raj  2021                      39159\n",
       "35           Raj  2022                      47291"
      ]
     },
     "execution_count": 26,
     "metadata": {},
     "output_type": "execute_result"
    }
   ],
   "source": [
    "# Mengubah tipe data pada kolom 'Date' dari tipe 'Object' ke tipe 'datetime'\n",
    "df_dairy['Date'] = df_dairy['Date'].astype('datetime64[ns]')\n",
    "\n",
    "# Menambahkan kolom \"Year\" yang diekstrak dari kolom \"Date\"\n",
    "df_dairy['Year'] = df_dairy['Date'].dt.year\n",
    "\n",
    "# Mengelompokkan data berdasarkan merek dan tahun, lalu menghitung total penjualan dari masing-masing brand dalam periode tahun 2019, 2020, 2021, dan 2022\n",
    "sales_per_year = df_dairy.groupby(['Brand', 'Year'])['Quantity Sold (liters/kg)'].sum().reset_index()\n",
    "\n",
    "# Memilih 3 brand yang paling banyak menjual produk berdasarkan data dari sales_per_year\n",
    "top_brand_name = sales_per_year.groupby('Brand')['Quantity Sold (liters/kg)'].sum().nlargest(3).index\n",
    "\n",
    "# Membuat variable yang berisi data 3 brand dengan penjualan terbanyak dalam periode tahun 2019, 2020, 2021, dan 2022\n",
    "top_brand_sales = sales_per_year[sales_per_year['Brand'].isin(top_brand_name)]\n",
    "\n",
    "# Menampilkan data\n",
    "top_brand_sales"
   ]
  },
  {
   "cell_type": "markdown",
   "metadata": {},
   "source": [
    "Penyesuaian tipe data dilakukan agar tipe data sesuai dengan yang dibutuhkan. Penambahan kolom 'Year' yang diextract dari kolom 'Date' dilakukan untuk mengambil periode waktu tahun 2019, tahun 2020, tahun 2021, dan tahun 2022. Setelah pemisahan tahun tersebut, dilakukan pengelompokkan data dan menghitung total penjualan dari masing-masing brand. Kemudian diambil 3 brand dengan penjualan terbanyak pada periode tahun 2019, 2020, 2021, dan 2022. Didapatkan hasil 3 brand dengan penjualan terbanyak yaitu brand Amul, Mother Dairy, dan Raj dari periode penjualan tahun 2019-2022."
   ]
  },
  {
   "cell_type": "code",
   "execution_count": 69,
   "metadata": {},
   "outputs": [
    {
     "name": "stderr",
     "output_type": "stream",
     "text": [
      "/Users/maulidyaa/anaconda3/lib/python3.11/site-packages/seaborn/_oldcore.py:1498: FutureWarning: is_categorical_dtype is deprecated and will be removed in a future version. Use isinstance(dtype, CategoricalDtype) instead\n",
      "  if pd.api.types.is_categorical_dtype(vector):\n",
      "/Users/maulidyaa/anaconda3/lib/python3.11/site-packages/seaborn/_oldcore.py:1498: FutureWarning: is_categorical_dtype is deprecated and will be removed in a future version. Use isinstance(dtype, CategoricalDtype) instead\n",
      "  if pd.api.types.is_categorical_dtype(vector):\n",
      "/Users/maulidyaa/anaconda3/lib/python3.11/site-packages/seaborn/_oldcore.py:1498: FutureWarning: is_categorical_dtype is deprecated and will be removed in a future version. Use isinstance(dtype, CategoricalDtype) instead\n",
      "  if pd.api.types.is_categorical_dtype(vector):\n",
      "/Users/maulidyaa/anaconda3/lib/python3.11/site-packages/seaborn/_oldcore.py:1498: FutureWarning: is_categorical_dtype is deprecated and will be removed in a future version. Use isinstance(dtype, CategoricalDtype) instead\n",
      "  if pd.api.types.is_categorical_dtype(vector):\n",
      "/Users/maulidyaa/anaconda3/lib/python3.11/site-packages/seaborn/_oldcore.py:1498: FutureWarning: is_categorical_dtype is deprecated and will be removed in a future version. Use isinstance(dtype, CategoricalDtype) instead\n",
      "  if pd.api.types.is_categorical_dtype(vector):\n",
      "/Users/maulidyaa/anaconda3/lib/python3.11/site-packages/seaborn/_oldcore.py:1119: FutureWarning: use_inf_as_na option is deprecated and will be removed in a future version. Convert inf values to NaN before operating instead.\n",
      "  with pd.option_context('mode.use_inf_as_na', True):\n",
      "/Users/maulidyaa/anaconda3/lib/python3.11/site-packages/seaborn/_oldcore.py:1119: FutureWarning: use_inf_as_na option is deprecated and will be removed in a future version. Convert inf values to NaN before operating instead.\n",
      "  with pd.option_context('mode.use_inf_as_na', True):\n"
     ]
    },
    {
     "data": {
      "image/png": "[encoded data removed]",
      "text/plain": [
       "<Figure size 1200x600 with 1 Axes>"
      ]
     },
     "metadata": {},
     "output_type": "display_data"
    }
   ],
   "source": [
    "# Membuat line chart untuk tren penjualan dari 3 brand teratas\n",
    "plt.figure(figsize=(12, 6))\n",
    "sns.lineplot(x='Year', y='Quantity Sold (liters/kg)', hue='Brand', data=top_brand_sales, marker='o', )\n",
    "plt.title('Sales Trends for the Top 3 Dairy Product Brands (2019-2022)')\n",
    "plt.xlabel('Year')\n",
    "plt.ylabel('Quantity Sold (liters/kg)')\n",
    "plt.legend(title='Brand', loc='upper left')\n",
    "plt.show()"
   ]
  },
  {
   "cell_type": "markdown",
   "metadata": {},
   "source": [
    "Dari visualisasi line chart diatas dapat dilihat tren penjualan brand Amul, Mother Dairy, dan Raj dari tahun 2019, 2020, 2021, dan 2022. Dengan penjelasan sebagai berikut:\n",
    "\n",
    "Brand pertama yang produknya paling banyak terjual adalah Brand Amul. Pada tahun 2019 produk yang terjual dari brand Amul adalah sebesar 65568 liters/kg, kemudian di tahun 2020 mengalami kenaikan penjualan dengan total 73662 liters/kg, namun pada tahun 2021 mengalammi penurunan penjualan dengan total 62540 liters/kg. Penjualan kembali meningkat di tahun 2022 dengan total 62680 liters/kg. \n",
    "\n",
    "\n",
    "Kemudian brand dengan penjualan terbanyak kedua adalah brand Mother Dairy. Pada tahun 2019 produk yang terjual dari brand Mother Dairy adalah sebesar 71219 liters/kg, di tahun 2020 mengalami penurunan penjualan dengan total 63732 liters/kg, kemudian di tahun 2021 dan 2022 penjualan terus menurun dengan total penjualan tahun 2021 sebesar 63100 liters/kg dan pada tahun 2022 dengan total sebesar 53694 liters/kg. \n",
    "\n",
    "\n",
    "Brand dengan penjualan terbanyak ketiga adalah Raj dengan penjualan sebesar 43405 liters/kg pada tahun 2019, lalu pada tahun 2020 penjualan meningkat dengan total 44887 liters/kg, namun pada tahun 2021 penjualan menurun dengan total 39159 liters/kg. Kemudian pada tahun 2022penjualan meningkat kembali dengan total 47291 liters/kg.\n"
   ]
  },
  {
   "cell_type": "markdown",
   "metadata": {},
   "source": [
    "## <b> 5. Sebutkan 5 produk yang paling laku terjual</b>"
   ]
  },
  {
   "cell_type": "code",
   "execution_count": 33,
   "metadata": {},
   "outputs": [
    {
     "data": {
      "text/plain": [
       "Product Name\n",
       "Curd          479\n",
       "Lassi         447\n",
       "Paneer        441\n",
       "Yogurt        437\n",
       "Buttermilk    435\n",
       "Butter        431\n",
       "Milk          429\n",
       "Ice Cream     423\n",
       "Ghee          402\n",
       "Cheese        401\n",
       "Name: count, dtype: int64"
      ]
     },
     "execution_count": 33,
     "metadata": {},
     "output_type": "execute_result"
    }
   ],
   "source": [
    "# Menampilkan data pada kolom 'Product Name'\n",
    "df_dairy['Product Name'].value_counts()"
   ]
  },
  {
   "cell_type": "markdown",
   "metadata": {},
   "source": [
    "Dari data diatas dapat dilihat bahwa pada kolom 'Product Name' yang bertipe data int64 terdapat data 10 macam produk, yaitu Curd sebanyak 479, Lassi sebanyak 447, Paneer sebanyak 441, Yogurt sebanyak 437, Buttermilk sebanyak 435, Butter sebanyak 431, Milk sebanyak 429, Ice Cream sebanyak 423, Ghee sebanyak 402, dan Cheese sebanyak 401. \n"
   ]
  },
  {
   "cell_type": "code",
   "execution_count": 38,
   "metadata": {},
   "outputs": [
    {
     "data": {
      "text/plain": [
       "Product Name\n",
       "Curd      120415\n",
       "Lassi     112731\n",
       "Milk      109852\n",
       "Butter    109578\n",
       "Paneer    107931\n",
       "Name: Quantity Sold (liters/kg), dtype: int64"
      ]
     },
     "execution_count": 38,
     "metadata": {},
     "output_type": "execute_result"
    }
   ],
   "source": [
    "\n",
    "# Mengelompokan kolom 'Product Name' dan kolom 'Quantity Sold (liters/kg)' lalu menghitung total masing-masing produk yang terjual\n",
    "products_sold = df_dairy.groupby('Product Name')['Quantity Sold (liters/kg)'].sum()\n",
    "\n",
    "# Memilih 5 produk terlaris dari hasil perhitungan diatas\n",
    "top_products = products_sold.nlargest(5)\n",
    "\n",
    "# Menampilkan data\n",
    "top_products"
   ]
  },
  {
   "cell_type": "markdown",
   "metadata": {},
   "source": [
    "Setelah dilakukan perhitungan total produk terjual berdasarkan nama produk dan mengurutkan dari penjualan produk terbanyak, didapatkan hasil bahwa produk Curd merupakan produk yang paling laris terjual yaitu sebesar 120415 liter/kg, kemudian produk Lassi yaitu sebesar 112731 liter/kg, produk Milk yaitu sebesar 109852 liter/kg, produk Butter sebesar 109578 liters/kg, dan produk Paneer yaitu sebesar 107931 liter/kg."
   ]
  },
  {
   "cell_type": "code",
   "execution_count": 40,
   "metadata": {},
   "outputs": [
    {
     "data": {
      "image/png": "[encoded data removed]",
      "text/plain": [
       "<Figure size 1200x800 with 1 Axes>"
      ]
     },
     "metadata": {},
     "output_type": "display_data"
    }
   ],
   "source": [
    "# Visualisasi data 5 produk terlaris\n",
    "plt.figure(figsize=(12, 8))\n",
    "top_products.plot(kind='bar', color='skyblue')\n",
    "plt.title('Top 5 Best-Selling Products')\n",
    "plt.xlabel('Product Name')\n",
    "plt.ylabel('Total Quantity Sold')\n",
    "plt.xticks(rotation=45, ha='right') \n",
    "plt.tight_layout()\n",
    "plt.show()\n"
   ]
  },
  {
   "cell_type": "markdown",
   "metadata": {},
   "source": [
    "Dari visualisasi bar chart diatas dapat dilihat bahwa produk Curd merupakan produk yang terlaris,kemudian pada posisi kedua adalah produk Lassi, pada posisi ketiga adalah produk Milk, posisi keempat adalah produk Butter, dan posisi kelima adalah produk Paneer."
   ]
  },
  {
   "cell_type": "markdown",
   "metadata": {},
   "source": [
    "## <b> 6. Bagaimana komposisi produk dairy yang terjual berdasarkan Storage Condition? </b>"
   ]
  },
  {
   "cell_type": "code",
   "execution_count": 70,
   "metadata": {},
   "outputs": [
    {
     "data": {
      "text/plain": [
       "Storage Condition\n",
       "Refrigerated        2459\n",
       "Frozen              1035\n",
       "Ambient              402\n",
       "Polythene Packet     225\n",
       "Tetra Pack           204\n",
       "Name: count, dtype: int64"
      ]
     },
     "execution_count": 70,
     "metadata": {},
     "output_type": "execute_result"
    }
   ],
   "source": [
    "# Menampilkan nilai unik dalam kolom 'Storage Condition'\n",
    "\n",
    "df_dairy['Storage Condition'].value_counts()"
   ]
  },
  {
   "cell_type": "markdown",
   "metadata": {},
   "source": [
    "Dari data diatas dapat dilihat bahwa pada kolom 'Storage Condition' yang bertipe data int64 terdapat data 5 macam kategori, yaitu Refrigerated sebanyak 2459, Frozen sebanyak 1035, Ambient sebanyak 402, Polythene Packet sebanyak 225, dan Tetra Pack sebanyak 204. "
   ]
  },
  {
   "cell_type": "code",
   "execution_count": 71,
   "metadata": {},
   "outputs": [
    {
     "data": {
      "image/png": "[encoded data removed]",
      "text/plain": [
       "<Figure size 800x800 with 1 Axes>"
      ]
     },
     "metadata": {},
     "output_type": "display_data"
    }
   ],
   "source": [
    "# Mengelompokkan kolom 'Storage Condition' dan 'Quantity Sold (liters/kg)', lalu menghitung komposisi produk yang terjual\n",
    "products_sold_by_storage = df_dairy.groupby('Storage Condition')['Quantity Sold (liters/kg)'].sum()\n",
    "\n",
    "# Membuat visualisasi pie chart dari jumlah pembelian berdasarkan kolom 'Strorage Condition' \n",
    "plt.figure(figsize=(8, 8))\n",
    "plt.pie(products_sold_by_storage, labels=products_sold_by_storage.index, autopct='%1.1f%%', startangle=90)\n",
    "plt.title('Composition of Quantity Sold Based on Storage Condition')\n",
    "plt.show()\n"
   ]
  },
  {
   "cell_type": "markdown",
   "metadata": {},
   "source": [
    "Dari visualisasi pie chart diatas dapat dilihat bahwa storage condition Refrigerated memberikan komposisi sebesar 56.0% terhadap produk dairy yang terjual, storage condition Frozen memberikan komposisi sebesar 24.6% terhadap produk dairy yang terjual, storage condition Ambient memberikan komposisi sebesar 9.2% terhadap produk dairy yang terjual, storage condition Polythene Packet memberikan komposisi sebesar 5.2% terhadap produk dairy yang terjual, dan storage condition Tetrapack memberikan komposisi sebesar 5.0% terhadap produk dairy yang terjual."
   ]
  },
  {
   "cell_type": "markdown",
   "metadata": {},
   "source": [
    "# <b> Pengambilan Kesimpulan </b>"
   ]
  },
  {
   "cell_type": "markdown",
   "metadata": {},
   "source": [
    "\n",
    "- Kolom \"Quantity Sold (liters/kg)\" memiliki nilai mean sebesar 248.0950289017341, nilai median sebesar 189.0, dan nilai modus sebesar 1 yang menunjukkan bahwa kecenderungan data yang condong ke kanan. Distribusi data yang tidak normal ini didukung juga dari hasil nilai skewness lebih dari 0.05 yaitu sebesar 0.9819825524214227 yang artinya distribusi data condong ke kanan(positif skewness) dan adanya ekor distribusi yang lebih panjang di sisi kanan. Kemudian dari hasil nilai Kurtosis sebesar 0.2500022798870041 menunjukan bahwa distribusi data tersebut merupakan tipe kurtosis Leptokurtic dan terdapat nilai outlier (nilai ekstrim).\n",
    "\n",
    "\n",
    "\n",
    "- Untuk mengetahui adanya perbedaan dalam penjualan dairy products berdasarkan metode pembelian, dilakukan pengujian menggunakakn ANOVA test. Namun dikarenakan pada kolom \"Quantity Sold (liters/kg)\" terdapat nilai outlier, maka dilakukan 2 pengujian ANOVA yaitu pengujian ANOVA test dengan penanganan terhadap nilai outlier terlebih dahulu dan pengujian ANOVA Test tanpa penanganan terhadap outlier. Hasil dari kedua uji tersebut menunjukkan bahwa nilai P lebih dari 0.05 yang artinya H0 diterima dan H1 ditolak. Dengan kata lain, tidak ada perbedaan dalam rata-rata penjualan antara kelompok metode pembelian baik dengan data yang memiliki nilai outlier maupun dengan data yang sudah dilakukan penanganan nilai outlier. Metode pembelian menggunakan wholesale, retail, ataupun online dapat dilakukan karena tidak memiliki perbedaan.\n",
    "\n",
    "\n",
    "\n",
    "- Brand dengan penjualan produk dairy terbanyak adalah brand Amul, kemudian pada posisi kedua adalah brand Mother Dairy, brand ketiga adalah brand Raj, brand keempat adalah Sudha, brand kelima adalah Palle2patnam, brand keenam adalah Dodla Dairy, brand ketujuh adalah Warana, brand kedelapan adalah Passion Cheese, brand kesembilan adalah Dynamix Dairies, brand kesepuluh adalah Parag Milk Foods, dan brand kesebelas adalah Britannia Industries.\n",
    "\n",
    "\n",
    "\n",
    "- Brand pertama yang produknya paling banyak terjual adalah Brand Amul. Pada tahun 2019 produk yang terjual dari brand Amul adalah sebesar 65568 liters/kg, kemudian di tahun 2020 mengalami kenaikan penjualan dengan total 73662 liters/kg, namun pada tahun 2021 mengalammi penurunan penjualan dengan total 62540 liters/kg. Penjualan kembali meningkat di tahun 2022 dengan total 62680 liters/kg. \n",
    "\n",
    "\n",
    "    Kemudian brand dengan penjualan terbanyak kedua adalah brand Mother Dairy. Pada tahun 2019 produk yang terjual dari brand Mother Dairy adalah sebesar 71219 liters/kg, di tahun 2020 mengalami penurunan penjualan dengan total 63732 liters/kg, kemudian di tahun 2021 dan 2022 penjualan terus menurun dengan total penjualan tahun 2021 sebesar 63100 liters/kg dan pada tahun 2022 dengan total sebesar 53694 liters/kg. \n",
    "\n",
    "\n",
    "    Brand dengan penjualan terbanyak ketiga adalah Raj dengan penjualan sebesar 43405 liters/kg pada tahun 2019, lalu pada tahun 2020 penjualan meningkat dengan total 44887 liters/kg, namun pada tahun 2021 penjualan menurun dengan total 39159 liters/kg. Kemudian pada tahun 2022penjualan meningkat kembali dengan total 47291 liters/kg.\n",
    "\n",
    "\n",
    "\n",
    "\n",
    "- 5 produk dengan penjualan paling laris adalah Curd denga penjualan sebesar 120415 liter/kg, kemudian produk Lassi yaitu sebesar 112731 liter/kg, produk Milk yaitu sebesar 109852 liter/kg, produk Butter sebesar 109578 liters/kg, dan produk Paneer yaitu sebesar 107931 liter/kg.\n",
    "\n",
    "\n",
    "\n",
    "- Storage condition Refrigerated memberikan komposisi sebesar 56.0% terhadap produk dairy yang terjual, storage condition Frozen memberikan komposisi sebesar 24.6% terhadap produk dairy yang terjual, storage condition Ambient memberikan komposisi sebesar 9.2% terhadap produk dairy yang terjual, storage condition Polythene Packet memberikan komposisi sebesar 5.2% terhadap produk dairy yang terjual, dan storage condition Tetrapack memberikan komposisi sebesar 5.0% terhadap produk dairy yang terjual"
   ]
  }
 ],
 "metadata": {
  "kernelspec": {
   "display_name": "base",
   "language": "python",
   "name": "python3"
  },
  "language_info": {
   "codemirror_mode": {
    "name": "ipython",
    "version": 3
   },
   "file_extension": ".py",
   "mimetype": "text/x-python",
   "name": "python",
   "nbconvert_exporter": "python",
   "pygments_lexer": "ipython3",
   "version": "3.11.5"
  }
 },
 "nbformat": 4,
 "nbformat_minor": 2
}
